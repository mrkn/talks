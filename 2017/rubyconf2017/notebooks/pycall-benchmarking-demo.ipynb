{
 "cells": [
  {
   "cell_type": "markdown",
   "metadata": {},
   "source": [
    "In this demonstration, we collect the results of benchmark in a pandas data frame, and visualize it by seaborn library.\n",
    "\n",
    "At first, we need to prepare requirements."
   ]
  },
  {
   "cell_type": "code",
   "execution_count": 1,
   "metadata": {},
   "outputs": [
    {
     "data": {
      "text/plain": [
       "[:inline, \"module://ruby.matplotlib.backend_inline\"]"
      ]
     },
     "execution_count": 1,
     "metadata": {},
     "output_type": "execute_result"
    }
   ],
   "source": [
    "require 'nmatrix'\n",
    "require 'numo/narray'\n",
    "\n",
    "require 'pycall'\n",
    "\n",
    "require 'pandas'\n",
    "Pandas.options.display.max_rows = 20\n",
    "\n",
    "require 'matplotlib/iruby'\n",
    "Matplotlib::IRuby.activate"
   ]
  },
  {
   "cell_type": "code",
   "execution_count": 2,
   "metadata": {},
   "outputs": [
    {
     "name": "stderr",
     "output_type": "stream",
     "text": [
      "(pry):13: warning: already initialized constant N\n",
      "/usr/local/bundle/gems/nmatrix-0.2.3/lib/nmatrix/shortcuts.rb:1158: warning: previous definition of N was here\n"
     ]
    },
    {
     "name": "stdout",
     "output_type": "stream",
     "text": [
      "100 / 100 DONE\n"
     ]
    }
   ],
   "source": [
    "require 'benchmark'\n",
    "\n",
    "N, L = 100, 10_000\n",
    "ary = Array.new(L) { rand }\n",
    "nma = NMatrix.new([L], ary)\n",
    "nar = Numo::NArray[ary]\n",
    "\n",
    "df = Pandas::DataFrame.new(data: {method: [], time: []})\n",
    "N.times do |n|\n",
    "  print \"\\r%3d / #{N}\" % (n+1)\n",
    "  $stdout.flush\n",
    "\n",
    "  # Array#inject -------------------------\n",
    "  t = Benchmark.realtime { ary.inject(:+) }\n",
    "  df.loc[df.shape[0]] = { method: :inject, time: t }\n",
    "\n",
    "  # while expr ---------------------------\n",
    "  t = Benchmark.realtime {\n",
    "    sum, i = ary[0], 1\n",
    "    while i < L\n",
    "      sum += ary[i]; i += 1\n",
    "    end\n",
    "  }\n",
    "  df.loc[df.shape[0]] = { method: :while, time: t }\n",
    "\n",
    "  # Array#sum ----------------------------\n",
    "  t = Benchmark.realtime { ary.sum }\n",
    "  df.loc[df.shape[0]] = { method: :ary_sum, time: t }\n",
    "\n",
    "  # Enumerable#sum -----------------------\n",
    "  enum = ary.each\n",
    "  t = Benchmark.realtime { enum.sum }\n",
    "  df.loc[df.shape[0]] = { method: :enum_sum, time: t }\n",
    "  \n",
    "  # NMatrix#sum --------------------------\n",
    "  t = Benchmark.realtime { nma.sum }\n",
    "  df.loc[df.shape[0]] = { method: :nmatrix, time: t }\n",
    "  \n",
    "  # Numo::NArray#sum ---------------------\n",
    "  t = Benchmark.realtime { nar.sum }\n",
    "  df.loc[df.shape[0]] = { method: :narray, time: t }\n",
    "end\n",
    "print \" DONE\\n\""
   ]
  },
  {
   "cell_type": "code",
   "execution_count": 3,
   "metadata": {},
   "outputs": [
    {
     "data": {
      "text/html": [
       "<div>\n",
       "<style>\n",
       "    .dataframe thead tr:only-child th {\n",
       "        text-align: right;\n",
       "    }\n",
       "\n",
       "    .dataframe thead th {\n",
       "        text-align: left;\n",
       "    }\n",
       "\n",
       "    .dataframe tbody tr th {\n",
       "        vertical-align: top;\n",
       "    }\n",
       "</style>\n",
       "<table border=\"1\" class=\"dataframe\">\n",
       "  <thead>\n",
       "    <tr style=\"text-align: right;\">\n",
       "      <th></th>\n",
       "      <th>method</th>\n",
       "      <th>time</th>\n",
       "    </tr>\n",
       "  </thead>\n",
       "  <tbody>\n",
       "    <tr>\n",
       "      <th>0</th>\n",
       "      <td>inject</td>\n",
       "      <td>0.000729</td>\n",
       "    </tr>\n",
       "    <tr>\n",
       "      <th>1</th>\n",
       "      <td>while</td>\n",
       "      <td>0.000392</td>\n",
       "    </tr>\n",
       "    <tr>\n",
       "      <th>2</th>\n",
       "      <td>ary_sum</td>\n",
       "      <td>0.000074</td>\n",
       "    </tr>\n",
       "    <tr>\n",
       "      <th>3</th>\n",
       "      <td>enum_sum</td>\n",
       "      <td>0.000307</td>\n",
       "    </tr>\n",
       "    <tr>\n",
       "      <th>4</th>\n",
       "      <td>nmatrix</td>\n",
       "      <td>0.091117</td>\n",
       "    </tr>\n",
       "    <tr>\n",
       "      <th>5</th>\n",
       "      <td>narray</td>\n",
       "      <td>0.001878</td>\n",
       "    </tr>\n",
       "    <tr>\n",
       "      <th>6</th>\n",
       "      <td>inject</td>\n",
       "      <td>0.000396</td>\n",
       "    </tr>\n",
       "    <tr>\n",
       "      <th>7</th>\n",
       "      <td>while</td>\n",
       "      <td>0.000433</td>\n",
       "    </tr>\n",
       "    <tr>\n",
       "      <th>8</th>\n",
       "      <td>ary_sum</td>\n",
       "      <td>0.000060</td>\n",
       "    </tr>\n",
       "    <tr>\n",
       "      <th>9</th>\n",
       "      <td>enum_sum</td>\n",
       "      <td>0.000172</td>\n",
       "    </tr>\n",
       "    <tr>\n",
       "      <th>...</th>\n",
       "      <td>...</td>\n",
       "      <td>...</td>\n",
       "    </tr>\n",
       "    <tr>\n",
       "      <th>590</th>\n",
       "      <td>ary_sum</td>\n",
       "      <td>0.000051</td>\n",
       "    </tr>\n",
       "    <tr>\n",
       "      <th>591</th>\n",
       "      <td>enum_sum</td>\n",
       "      <td>0.000155</td>\n",
       "    </tr>\n",
       "    <tr>\n",
       "      <th>592</th>\n",
       "      <td>nmatrix</td>\n",
       "      <td>0.080532</td>\n",
       "    </tr>\n",
       "    <tr>\n",
       "      <th>593</th>\n",
       "      <td>narray</td>\n",
       "      <td>0.000044</td>\n",
       "    </tr>\n",
       "    <tr>\n",
       "      <th>594</th>\n",
       "      <td>inject</td>\n",
       "      <td>0.000441</td>\n",
       "    </tr>\n",
       "    <tr>\n",
       "      <th>595</th>\n",
       "      <td>while</td>\n",
       "      <td>0.000385</td>\n",
       "    </tr>\n",
       "    <tr>\n",
       "      <th>596</th>\n",
       "      <td>ary_sum</td>\n",
       "      <td>0.000074</td>\n",
       "    </tr>\n",
       "    <tr>\n",
       "      <th>597</th>\n",
       "      <td>enum_sum</td>\n",
       "      <td>0.000150</td>\n",
       "    </tr>\n",
       "    <tr>\n",
       "      <th>598</th>\n",
       "      <td>nmatrix</td>\n",
       "      <td>0.080380</td>\n",
       "    </tr>\n",
       "    <tr>\n",
       "      <th>599</th>\n",
       "      <td>narray</td>\n",
       "      <td>0.000048</td>\n",
       "    </tr>\n",
       "  </tbody>\n",
       "</table>\n",
       "<p>600 rows × 2 columns</p>\n",
       "</div>"
      ],
      "text/plain": [
       "       method      time\n",
       "0      inject  0.000729\n",
       "1       while  0.000392\n",
       "2     ary_sum  0.000074\n",
       "3    enum_sum  0.000307\n",
       "4     nmatrix  0.091117\n",
       "5      narray  0.001878\n",
       "6      inject  0.000396\n",
       "7       while  0.000433\n",
       "8     ary_sum  0.000060\n",
       "9    enum_sum  0.000172\n",
       "..        ...       ...\n",
       "590   ary_sum  0.000051\n",
       "591  enum_sum  0.000155\n",
       "592   nmatrix  0.080532\n",
       "593    narray  0.000044\n",
       "594    inject  0.000441\n",
       "595     while  0.000385\n",
       "596   ary_sum  0.000074\n",
       "597  enum_sum  0.000150\n",
       "598   nmatrix  0.080380\n",
       "599    narray  0.000048\n",
       "\n",
       "[600 rows x 2 columns]"
      ]
     },
     "execution_count": 3,
     "metadata": {},
     "output_type": "execute_result"
    }
   ],
   "source": [
    "df"
   ]
  },
  {
   "cell_type": "markdown",
   "metadata": {},
   "source": [
    "`groupby` method of a data frame is useful to calculate statistical summaries for each method of summation."
   ]
  },
  {
   "cell_type": "code",
   "execution_count": 4,
   "metadata": {},
   "outputs": [
    {
     "data": {
      "text/html": [
       "<div>\n",
       "<style>\n",
       "    .dataframe thead tr:only-child th {\n",
       "        text-align: right;\n",
       "    }\n",
       "\n",
       "    .dataframe thead th {\n",
       "        text-align: left;\n",
       "    }\n",
       "\n",
       "    .dataframe tbody tr th {\n",
       "        vertical-align: top;\n",
       "    }\n",
       "</style>\n",
       "<table border=\"1\" class=\"dataframe\">\n",
       "  <thead>\n",
       "    <tr>\n",
       "      <th></th>\n",
       "      <th colspan=\"8\" halign=\"left\">time</th>\n",
       "    </tr>\n",
       "    <tr>\n",
       "      <th></th>\n",
       "      <th>count</th>\n",
       "      <th>mean</th>\n",
       "      <th>std</th>\n",
       "      <th>min</th>\n",
       "      <th>25%</th>\n",
       "      <th>50%</th>\n",
       "      <th>75%</th>\n",
       "      <th>max</th>\n",
       "    </tr>\n",
       "    <tr>\n",
       "      <th>method</th>\n",
       "      <th></th>\n",
       "      <th></th>\n",
       "      <th></th>\n",
       "      <th></th>\n",
       "      <th></th>\n",
       "      <th></th>\n",
       "      <th></th>\n",
       "      <th></th>\n",
       "    </tr>\n",
       "  </thead>\n",
       "  <tbody>\n",
       "    <tr>\n",
       "      <th>ary_sum</th>\n",
       "      <td>100.0</td>\n",
       "      <td>0.000057</td>\n",
       "      <td>0.000021</td>\n",
       "      <td>0.000040</td>\n",
       "      <td>0.000046</td>\n",
       "      <td>0.000049</td>\n",
       "      <td>0.000054</td>\n",
       "      <td>0.000172</td>\n",
       "    </tr>\n",
       "    <tr>\n",
       "      <th>enum_sum</th>\n",
       "      <td>100.0</td>\n",
       "      <td>0.000160</td>\n",
       "      <td>0.000046</td>\n",
       "      <td>0.000128</td>\n",
       "      <td>0.000132</td>\n",
       "      <td>0.000142</td>\n",
       "      <td>0.000157</td>\n",
       "      <td>0.000331</td>\n",
       "    </tr>\n",
       "    <tr>\n",
       "      <th>inject</th>\n",
       "      <td>100.0</td>\n",
       "      <td>0.000368</td>\n",
       "      <td>0.000112</td>\n",
       "      <td>0.000302</td>\n",
       "      <td>0.000303</td>\n",
       "      <td>0.000330</td>\n",
       "      <td>0.000381</td>\n",
       "      <td>0.000994</td>\n",
       "    </tr>\n",
       "    <tr>\n",
       "      <th>narray</th>\n",
       "      <td>100.0</td>\n",
       "      <td>0.000099</td>\n",
       "      <td>0.000195</td>\n",
       "      <td>0.000039</td>\n",
       "      <td>0.000045</td>\n",
       "      <td>0.000060</td>\n",
       "      <td>0.000076</td>\n",
       "      <td>0.001878</td>\n",
       "    </tr>\n",
       "    <tr>\n",
       "      <th>nmatrix</th>\n",
       "      <td>100.0</td>\n",
       "      <td>0.071863</td>\n",
       "      <td>0.008897</td>\n",
       "      <td>0.060303</td>\n",
       "      <td>0.064050</td>\n",
       "      <td>0.069874</td>\n",
       "      <td>0.077345</td>\n",
       "      <td>0.096516</td>\n",
       "    </tr>\n",
       "    <tr>\n",
       "      <th>while</th>\n",
       "      <td>100.0</td>\n",
       "      <td>0.000382</td>\n",
       "      <td>0.000075</td>\n",
       "      <td>0.000323</td>\n",
       "      <td>0.000332</td>\n",
       "      <td>0.000356</td>\n",
       "      <td>0.000393</td>\n",
       "      <td>0.000665</td>\n",
       "    </tr>\n",
       "  </tbody>\n",
       "</table>\n",
       "</div>"
      ],
      "text/plain": [
       "           time                                                              \\\n",
       "          count      mean       std       min       25%       50%       75%   \n",
       "method                                                                        \n",
       "ary_sum   100.0  0.000057  0.000021  0.000040  0.000046  0.000049  0.000054   \n",
       "enum_sum  100.0  0.000160  0.000046  0.000128  0.000132  0.000142  0.000157   \n",
       "inject    100.0  0.000368  0.000112  0.000302  0.000303  0.000330  0.000381   \n",
       "narray    100.0  0.000099  0.000195  0.000039  0.000045  0.000060  0.000076   \n",
       "nmatrix   100.0  0.071863  0.008897  0.060303  0.064050  0.069874  0.077345   \n",
       "while     100.0  0.000382  0.000075  0.000323  0.000332  0.000356  0.000393   \n",
       "\n",
       "                    \n",
       "               max  \n",
       "method              \n",
       "ary_sum   0.000172  \n",
       "enum_sum  0.000331  \n",
       "inject    0.000994  \n",
       "narray    0.001878  \n",
       "nmatrix   0.096516  \n",
       "while     0.000665  "
      ]
     },
     "execution_count": 4,
     "metadata": {},
     "output_type": "execute_result"
    }
   ],
   "source": [
    "df.groupby(:method).describe"
   ]
  },
  {
   "cell_type": "markdown",
   "metadata": {},
   "source": [
    "And then, we can visualize the data frame by passing it to seaborn's function."
   ]
  },
  {
   "cell_type": "code",
   "execution_count": 5,
   "metadata": {},
   "outputs": [
    {
     "data": {
      "image/png": "[encoded data removed]",
      "text/plain": [
       "<matplotlib.figure.Figure object at 0x7f4d3078a438>"
      ]
     },
     "execution_count": 5,
     "metadata": {},
     "output_type": "execute_result"
    },
    {
     "data": {
      "text/plain": [
       "<matplotlib.axes._subplots.AxesSubplot object at 0x7f4d25c74978>"
      ]
     },
     "execution_count": 5,
     "metadata": {},
     "output_type": "execute_result"
    }
   ],
   "source": [
    "sns = PyCall.import_module('seaborn')\n",
    "sns.barplot(x: 'method', y: 'time', data: df)"
   ]
  },
  {
   "cell_type": "markdown",
   "metadata": {},
   "source": [
    "NMatrix's sum is too slow to compare with other methods, so let's visualize without nmatrix's bar to compare other methods."
   ]
  },
  {
   "cell_type": "code",
   "execution_count": 6,
   "metadata": {},
   "outputs": [
    {
     "data": {
      "image/png": "[encoded data removed]",
      "text/plain": [
       "<matplotlib.figure.Figure object at 0x7f4d25bd8f60>"
      ]
     },
     "execution_count": 6,
     "metadata": {},
     "output_type": "execute_result"
    },
    {
     "data": {
      "text/plain": [
       "<matplotlib.axes._subplots.AxesSubplot object at 0x7f4d23b991d0>"
      ]
     },
     "execution_count": 6,
     "metadata": {},
     "output_type": "execute_result"
    }
   ],
   "source": [
    "df_without_nmatrix = df[df[:method] != 'nmatrix']\n",
    "sns.barplot(x: 'method', y: 'time', data: df_without_nmatrix)"
   ]
  },
  {
   "cell_type": "markdown",
   "metadata": {},
   "source": [
    "This demonstration is finished."
   ]
  },
  {
   "cell_type": "code",
   "execution_count": null,
   "metadata": {},
   "outputs": [],
   "source": []
  }
 ],
 "metadata": {
  "kernelspec": {
   "display_name": "Ruby 2.4.2",
   "language": "ruby",
   "name": "ruby"
  },
  "language_info": {
   "file_extension": ".rb",
   "mimetype": "application/x-ruby",
   "name": "ruby",
   "version": "2.4.2"
  }
 },
 "nbformat": 4,
 "nbformat_minor": 2
}
