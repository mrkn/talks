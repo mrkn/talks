{
 "cells": [
  {
   "cell_type": "markdown",
   "metadata": {},
   "source": [
    "- PyCall.jl https://github.com/JuliaPy/PyCall.jl\n",
    "- pyjulia https://github.com/JuliaPy/pyjulia"
   ]
  },
  {
   "cell_type": "markdown",
   "metadata": {},
   "source": [
    "# 準備"
   ]
  },
  {
   "cell_type": "markdown",
   "metadata": {},
   "source": [
    "PyCall.jl をまだインストールしていない場合は、 `Pkg.add(\"PyCall\")` を評価してインストールします。"
   ]
  },
  {
   "cell_type": "code",
   "execution_count": 1,
   "metadata": {},
   "outputs": [
    {
     "name": "stderr",
     "output_type": "stream",
     "text": [
      "\u001b[1m\u001b[36mINFO: \u001b[39m\u001b[22m\u001b[36mPackage PyCall is already installed\n",
      "\u001b[39m\u001b[1m\u001b[36mINFO: \u001b[39m\u001b[22m\u001b[36mMETADATA is out-of-date — you may not have the latest version of PyCall\n",
      "\u001b[39m\u001b[1m\u001b[36mINFO: \u001b[39m\u001b[22m\u001b[36mUse `Pkg.update()` to get the latest versions of your packages\n",
      "\u001b[39m"
     ]
    }
   ],
   "source": [
    "Pkg.add(\"PyCall\")"
   ]
  },
  {
   "cell_type": "markdown",
   "metadata": {},
   "source": [
    "すでにインストール済みの PyCall.jl を最新版にアップデートする場合は `Pkg.update(\"PyCall\")` を評価します。"
   ]
  },
  {
   "cell_type": "code",
   "execution_count": 2,
   "metadata": {},
   "outputs": [
    {
     "name": "stderr",
     "output_type": "stream",
     "text": [
      "\u001b[1m\u001b[36mINFO: \u001b[39m\u001b[22m\u001b[36mUpdating METADATA...\n",
      "\u001b[39m\u001b[1m\u001b[36mINFO: \u001b[39m\u001b[22m\u001b[36mUpdating PyCall master... 2e5ff6f9 → 0550f890\n",
      "\u001b[39m\u001b[1m\u001b[36mINFO: \u001b[39m\u001b[22m\u001b[36mComputing changes...\n",
      "\u001b[39m\u001b[1m\u001b[36mINFO: \u001b[39m\u001b[22m\u001b[36mNo packages to install, update or remove\n",
      "\u001b[39m"
     ]
    }
   ],
   "source": [
    "Pkg.update(\"PyCall\")"
   ]
  },
  {
   "cell_type": "markdown",
   "metadata": {},
   "source": [
    "`using PyCall` で PyCall.jl をロードします。"
   ]
  },
  {
   "cell_type": "code",
   "execution_count": 3,
   "metadata": {},
   "outputs": [
    {
     "name": "stderr",
     "output_type": "stream",
     "text": [
      "\u001b[1m\u001b[36mINFO: \u001b[39m\u001b[22m\u001b[36mRecompiling stale cache file /Users/mrkn/.julia/lib/v0.6/PyCall.ji for module PyCall.\n",
      "\u001b[39mWARNING: Method definition macroexpand(Module, Any) in module Compat at /Users/mrkn/.julia/v0.6/Compat/src/Compat.jl:406 overwritten in module MacroTools at /Users/mrkn/.julia/v0.6/MacroTools/src/utils.jl:64.\n",
      "WARNING: Method definition macroexpand(Module, Any) in module Compat at /Users/mrkn/.julia/v0.6/Compat/src/Compat.jl:406 overwritten in module MacroTools at /Users/mrkn/.julia/v0.6/MacroTools/src/utils.jl:64.\n"
     ]
    }
   ],
   "source": [
    "using PyCall"
   ]
  },
  {
   "cell_type": "markdown",
   "metadata": {},
   "source": [
    "`@pyimport` マクロを使うと Python のモジュールをインポートできます。試しに numpy の rand 関数を呼び出して見ましょう。numpy の配列は Julia の Array に変換されます。"
   ]
  },
  {
   "cell_type": "code",
   "execution_count": 4,
   "metadata": {},
   "outputs": [
    {
     "data": {
      "text/plain": [
       "3×4 Array{Float64,2}:\n",
       " 0.593223  0.278144  0.328856   0.696607\n",
       " 0.795145  0.146189  0.0624241  0.150557\n",
       " 0.64174   0.225701  0.913439   0.786279"
      ]
     },
     "execution_count": 4,
     "metadata": {},
     "output_type": "execute_result"
    }
   ],
   "source": [
    "@pyimport numpy.random as nr\n",
    "nr.rand(3,4)"
   ]
  },
  {
   "cell_type": "markdown",
   "metadata": {},
   "source": [
    "このように PyCall.jl を使うと Python の機能を Julia から利用できます。ですから、例えば仕事で使いたい機能が Python にはあるけど Julia にはまだ無い場合でも、Julia に移植する時間が無ければ PyCall を使って Python を呼び出してしまえば良いわけです。移植は余裕ができてからやれば OK。"
   ]
  },
  {
   "cell_type": "markdown",
   "metadata": {},
   "source": [
    "# PyCall.jl の仕組み\n",
    "\n",
    "PyCall.jl がどのように Julia と Python を橋渡ししているかを簡単に説明します。\n",
    "\n",
    "`Pkg.add(\"PyCall\")` や `Pkg.build(\"PyCall\")` で PyCall.jl をビルドすると、パス内の `python` コマンド (環境変数 `PYTHON` が指定されている場合はそこに設定されている `python` コマンド) を使用して Python インタープリタの実態である共有ライブラリ `libpython.so` を探します。\n",
    "\n",
    "`using PyCall` で PyCall.jl をロードすると、ビルド時に探しておいた `libpython.so` を Julia の ffi 機能を利用して動的ロード (`Libdl.dlopen`) します。PyCall は動的ロードした `libpython.so` を使い、[Python インタープリタを他のアプリケーションへ埋め込む](https://docs.python.jp/3/extending/embedding.html)場合と同様のやり方で Julia に埋め込みます。"
   ]
  },
  {
   "cell_type": "markdown",
   "metadata": {},
   "source": [
    "## Python モジュールのインポート\n",
    "\n",
    "Python のモジュールは関数 `pyimport` を利用することでインポートできます。例えば、次のコードは `sys` モジュールをインポートします。"
   ]
  },
  {
   "cell_type": "code",
   "execution_count": 12,
   "metadata": {},
   "outputs": [
    {
     "data": {
      "text/plain": [
       "PyObject <module 'sys' (built-in)>"
      ]
     },
     "execution_count": 12,
     "metadata": {},
     "output_type": "execute_result"
    }
   ],
   "source": [
    "sys = pyimport(\"sys\")"
   ]
  },
  {
   "cell_type": "markdown",
   "metadata": {},
   "source": [
    "関数 `pyimport` はインポートするモジュールの名前を文字列で指定し、結果はインポートされたモジュールです。\n",
    "\n",
    "一方、上で `numpy.random` モジュールを使った時に利用したマクロ `@pyimport` を利用すると、Python の\n",
    "```python\n",
    "import module.name as alias\n",
    "```\n",
    "構文と同様の記法が使えます。"
   ]
  },
  {
   "cell_type": "markdown",
   "metadata": {},
   "source": [
    "## Python のビルトイン関数\n",
    "\n",
    "Python のビルトイン関数は、関数 `pybuiltin` を使って参照します。"
   ]
  },
  {
   "cell_type": "code",
   "execution_count": 19,
   "metadata": {},
   "outputs": [
    {
     "data": {
      "text/plain": [
       "PyObject <built-in function len>"
      ]
     },
     "execution_count": 19,
     "metadata": {},
     "output_type": "execute_result"
    }
   ],
   "source": [
    "pybuiltin(:len)"
   ]
  },
  {
   "cell_type": "code",
   "execution_count": 18,
   "metadata": {},
   "outputs": [
    {
     "data": {
      "text/plain": [
       "PyObject <type 'str'>"
      ]
     },
     "execution_count": 18,
     "metadata": {},
     "output_type": "execute_result"
    }
   ],
   "source": [
    "pybuiltin(:str)"
   ]
  },
  {
   "cell_type": "code",
   "execution_count": 24,
   "metadata": {
    "scrolled": true
   },
   "outputs": [
    {
     "data": {
      "text/plain": [
       "PyObject <type 'type'>"
      ]
     },
     "execution_count": 24,
     "metadata": {},
     "output_type": "execute_result"
    }
   ],
   "source": [
    "pybuiltin(:type)"
   ]
  },
  {
   "cell_type": "markdown",
   "metadata": {},
   "source": [
    "## Python オブジェクトの呼び出し\n",
    "\n",
    "関数オブジェクトなど `__call__` が定義されているオブジェクトは呼び出し可能です。そのような呼び出し可能なオブジェクトは、`obj(...)` 記法で呼び出せます。"
   ]
  },
  {
   "cell_type": "code",
   "execution_count": 33,
   "metadata": {},
   "outputs": [
    {
     "data": {
      "text/plain": [
       "PyObject <object object at 0x124be10d0>"
      ]
     },
     "execution_count": 33,
     "metadata": {},
     "output_type": "execute_result"
    }
   ],
   "source": [
    "pybuiltin(:object)()"
   ]
  },
  {
   "cell_type": "markdown",
   "metadata": {},
   "source": [
    "## Python オブジェクトの属性へのアクセス\n",
    "\n",
    "オブジェクトの属性へは `obj[:attr]` の形式でアクセスします。属性への代入は `obj[:attr] = value` です。\n",
    "\n",
    "次のコードは、Python での\n",
    "```python\n",
    "po = object()\n",
    "po.__class__\n",
    "```\n",
    "と同じです。"
   ]
  },
  {
   "cell_type": "code",
   "execution_count": 34,
   "metadata": {},
   "outputs": [
    {
     "data": {
      "text/plain": [
       "PyObject <type 'object'>"
      ]
     },
     "execution_count": 34,
     "metadata": {},
     "output_type": "execute_result"
    }
   ],
   "source": [
    "po = pybuiltin(:object)()\n",
    "po[:__class__]"
   ]
  },
  {
   "cell_type": "markdown",
   "metadata": {},
   "source": [
    "## Python オブジェクトの扱い方\n",
    "\n",
    "PyCall.jl では、Python オブジェクトのポインタを保持するために PyObject 型のオブジェクトを利用します。これにより、次の図のように Python オブジェクトの構造体のポインタを扱います。\n",
    "\n",
    "![](pyobject.png)\n"
   ]
  },
  {
   "cell_type": "markdown",
   "metadata": {},
   "source": [
    "## 型変換\n",
    "\n",
    "Python オブジェクトは PyObject 型のオブジェクトに包まれて Julia 側に持ってくるわけですが、全てのオブジェクトをそのようにしてしまうと不便です。PyCall.jl は次の基本的な型については、Julia と Python の間でそれぞれの基本型に相互変換するようになっています。\n",
    "\n",
    "- 数 (整数、浮動小数点数、複素数、)\n",
    "- 文字列\n",
    "- 範囲\n",
    "- タプル\n",
    "- 配列\n",
    "- 辞書\n",
    "- 多次元数値配列"
   ]
  },
  {
   "cell_type": "markdown",
   "metadata": {},
   "source": [
    "例えば、`sys.version` は文字列です。これを Julia 側に持ってくると Julia の文字列に自動変換されます。"
   ]
  },
  {
   "cell_type": "code",
   "execution_count": 35,
   "metadata": {
    "scrolled": true
   },
   "outputs": [
    {
     "data": {
      "text/plain": [
       "\"2.7.13 |Continuum Analytics, Inc.| (default, Dec 20 2016, 23:05:08) \\n[GCC 4.2.1 Compatible Apple LLVM 6.0 (clang-600.0.57)]\""
      ]
     },
     "execution_count": 35,
     "metadata": {},
     "output_type": "execute_result"
    }
   ],
   "source": [
    "sys[:version]"
   ]
  },
  {
   "cell_type": "markdown",
   "metadata": {},
   "source": [
    "同様に、整数である `sys.hexversion` も Julia の整数に自動変換されます。"
   ]
  },
  {
   "cell_type": "code",
   "execution_count": 36,
   "metadata": {},
   "outputs": [
    {
     "data": {
      "text/plain": [
       "34016752"
      ]
     },
     "execution_count": 36,
     "metadata": {},
     "output_type": "execute_result"
    }
   ],
   "source": [
    "sys[:hexversion]"
   ]
  },
  {
   "cell_type": "markdown",
   "metadata": {},
   "source": [
    "自動変換されないオブジェクトは PyObject 型のオブジェクトのままになります。\n",
    "\n",
    "例えば、`sys.version_info` の値 (`sys.version_info` 型) は変換されません。"
   ]
  },
  {
   "cell_type": "code",
   "execution_count": 39,
   "metadata": {},
   "outputs": [
    {
     "data": {
      "text/plain": [
       "PyObject sys.version_info(major=2, minor=7, micro=13, releaselevel='final', serial=0)"
      ]
     },
     "execution_count": 39,
     "metadata": {},
     "output_type": "execute_result"
    }
   ],
   "source": [
    "sys[:version_info]"
   ]
  },
  {
   "cell_type": "markdown",
   "metadata": {},
   "source": [
    "Julia の値を Python の値に変換するには関数 `PyObject` を使います。\n",
    "\n",
    "PyCall が相互変換を定義している型については対応する Python の型に変換されます。"
   ]
  },
  {
   "cell_type": "code",
   "execution_count": 64,
   "metadata": {},
   "outputs": [
    {
     "data": {
      "text/plain": [
       "PyObject True"
      ]
     },
     "execution_count": 64,
     "metadata": {},
     "output_type": "execute_result"
    }
   ],
   "source": [
    "PyObject(true)"
   ]
  },
  {
   "cell_type": "code",
   "execution_count": 65,
   "metadata": {},
   "outputs": [
    {
     "data": {
      "text/plain": [
       "PyObject <type 'bool'>"
      ]
     },
     "execution_count": 65,
     "metadata": {},
     "output_type": "execute_result"
    }
   ],
   "source": [
    "pybuiltin(:type)(PyObject(true))"
   ]
  },
  {
   "cell_type": "code",
   "execution_count": 52,
   "metadata": {},
   "outputs": [
    {
     "data": {
      "text/plain": [
       "PyObject 1"
      ]
     },
     "execution_count": 52,
     "metadata": {},
     "output_type": "execute_result"
    }
   ],
   "source": [
    "PyObject(1)"
   ]
  },
  {
   "cell_type": "code",
   "execution_count": 53,
   "metadata": {},
   "outputs": [
    {
     "data": {
      "text/plain": [
       "PyObject <type 'int'>"
      ]
     },
     "execution_count": 53,
     "metadata": {},
     "output_type": "execute_result"
    }
   ],
   "source": [
    "pybuiltin(:type)(PyObject(1))"
   ]
  },
  {
   "cell_type": "code",
   "execution_count": 54,
   "metadata": {},
   "outputs": [
    {
     "data": {
      "text/plain": [
       "PyObject (1+2j)"
      ]
     },
     "execution_count": 54,
     "metadata": {},
     "output_type": "execute_result"
    }
   ],
   "source": [
    "PyObject(1 + 2im)"
   ]
  },
  {
   "cell_type": "code",
   "execution_count": 57,
   "metadata": {},
   "outputs": [
    {
     "data": {
      "text/plain": [
       "PyObject <type 'complex'>"
      ]
     },
     "execution_count": 57,
     "metadata": {},
     "output_type": "execute_result"
    }
   ],
   "source": [
    "pybuiltin(:type)(PyObject(1 + 2im))"
   ]
  },
  {
   "cell_type": "code",
   "execution_count": 60,
   "metadata": {},
   "outputs": [
    {
     "data": {
      "text/plain": [
       "PyObject u'\\u6587\\u5b57\\u5217'"
      ]
     },
     "execution_count": 60,
     "metadata": {},
     "output_type": "execute_result"
    }
   ],
   "source": [
    "PyObject(\"文字列\")"
   ]
  },
  {
   "cell_type": "code",
   "execution_count": 61,
   "metadata": {},
   "outputs": [
    {
     "data": {
      "text/plain": [
       "PyObject <type 'unicode'>"
      ]
     },
     "execution_count": 61,
     "metadata": {},
     "output_type": "execute_result"
    }
   ],
   "source": [
    "pybuiltin(:type)(PyObject(\"文字列\"))"
   ]
  },
  {
   "cell_type": "code",
   "execution_count": 66,
   "metadata": {},
   "outputs": [
    {
     "data": {
      "text/plain": [
       "PyObject [1, 2, 3, 'abc']"
      ]
     },
     "execution_count": 66,
     "metadata": {},
     "output_type": "execute_result"
    }
   ],
   "source": [
    "PyObject([1, 2, 3, \"abc\"])"
   ]
  },
  {
   "cell_type": "code",
   "execution_count": 67,
   "metadata": {},
   "outputs": [
    {
     "data": {
      "text/plain": [
       "PyObject <type 'list'>"
      ]
     },
     "execution_count": 67,
     "metadata": {},
     "output_type": "execute_result"
    }
   ],
   "source": [
    "pybuiltin(:type)(PyObject([1, 2, 3, \"abc\"]))"
   ]
  },
  {
   "cell_type": "code",
   "execution_count": 73,
   "metadata": {},
   "outputs": [
    {
     "data": {
      "text/plain": [
       "PyObject {'a': 1, 'c': 3, 'b': 2}"
      ]
     },
     "execution_count": 73,
     "metadata": {},
     "output_type": "execute_result"
    }
   ],
   "source": [
    "PyObject(Dict(\"a\" => 1, \"b\" => 2, \"c\" => 3))"
   ]
  },
  {
   "cell_type": "code",
   "execution_count": 74,
   "metadata": {},
   "outputs": [
    {
     "data": {
      "text/plain": [
       "PyObject <type 'dict'>"
      ]
     },
     "execution_count": 74,
     "metadata": {},
     "output_type": "execute_result"
    }
   ],
   "source": [
    "pybuiltin(:type)(PyObject(Dict(\"a\" => 1, \"b\" => 2, \"c\" => 3)))"
   ]
  },
  {
   "cell_type": "markdown",
   "metadata": {},
   "source": [
    "PyCall が相互変換を定義していない型については、Python 側では PyCall.jlwrap オブジェクトで Julia オブジェクトのポインタを包む形で Python 側に持っていきます。"
   ]
  },
  {
   "cell_type": "code",
   "execution_count": 62,
   "metadata": {},
   "outputs": [
    {
     "data": {
      "text/plain": [
       "PyObject Ptr{PyCall.PyObject_struct} @0x000000012341a210"
      ]
     },
     "execution_count": 62,
     "metadata": {},
     "output_type": "execute_result"
    }
   ],
   "source": [
    "PyObject('あ')"
   ]
  },
  {
   "cell_type": "code",
   "execution_count": 63,
   "metadata": {},
   "outputs": [
    {
     "data": {
      "text/plain": [
       "PyObject <type 'PyCall.jlwrap'>"
      ]
     },
     "execution_count": 63,
     "metadata": {},
     "output_type": "execute_result"
    }
   ],
   "source": [
    "pybuiltin(:type)(PyObject('あ'))"
   ]
  },
  {
   "cell_type": "markdown",
   "metadata": {},
   "source": [
    "# PyCall.jl とその周辺ライブラリたち\n",
    "\n",
    "PyCall.jl は Julia と Python を橋渡しする基本機能を提供してくれます。この基本機能を利用して、Python の主要ライブラリを使いやすくしてくれるラッパーライブラリがいくつか作られています。\n",
    "\n",
    "- [JuliaPy/Pandas.jl](https://github.com/JuliaPy/Pandas.jl)\n",
    "- [JuliaPy/PyPlot.jl](https://github.com/JuliaPy/PyPlot.jl)\n",
    "- [JuliaPy/Seaborn.jl](https://github.com/JuliaPy/Seaborn.jl)\n",
    "- [cstjean/Sklearn.jl](https://github.com/cstjean/ScikitLearn.jl)\n"
   ]
  },
  {
   "cell_type": "markdown",
   "metadata": {},
   "source": [
    "## Pandas を使ってみる\n",
    "\n",
    "Julia にもデータフレームを提供するライブラリはありますが、現在のところまだ pandas を使う方が色々と便利です。\n",
    "\n",
    "Pandas.jl ライブラリを利用すると、PyCall.jl の機能を直接利用するより Julia らしく pandas のデータフレームを扱えるようになります。"
   ]
  },
  {
   "cell_type": "code",
   "execution_count": 76,
   "metadata": {},
   "outputs": [
    {
     "name": "stderr",
     "output_type": "stream",
     "text": [
      "\u001b[1m\u001b[36mINFO: \u001b[39m\u001b[22m\u001b[36mUpdating cache of ColorTypes...\n",
      "\u001b[39m\u001b[1m\u001b[36mINFO: \u001b[39m\u001b[22m\u001b[36mUpdating cache of Colors...\n",
      "\u001b[39m\u001b[1m\u001b[36mINFO: \u001b[39m\u001b[22m\u001b[36mUpdating cache of FixedPointNumbers...\n",
      "\u001b[39m\u001b[1m\u001b[36mINFO: \u001b[39m\u001b[22m\u001b[36mCloning cache of Lazy from https://github.com/MikeInnes/Lazy.jl.git\n",
      "\u001b[39m\u001b[1m\u001b[36mINFO: \u001b[39m\u001b[22m\u001b[36mCloning cache of Pandas from https://github.com/JuliaPy/Pandas.jl.git\n",
      "\u001b[39m\u001b[1m\u001b[36mINFO: \u001b[39m\u001b[22m\u001b[36mInstalling ColorTypes v0.6.1\n",
      "\u001b[39m\u001b[1m\u001b[36mINFO: \u001b[39m\u001b[22m\u001b[36mInstalling Colors v0.8.1\n",
      "\u001b[39m\u001b[1m\u001b[36mINFO: \u001b[39m\u001b[22m\u001b[36mInstalling FixedPointNumbers v0.4.0\n",
      "\u001b[39m\u001b[1m\u001b[36mINFO: \u001b[39m\u001b[22m\u001b[36mInstalling LaTeXStrings v0.2.1\n",
      "\u001b[39m\u001b[1m\u001b[36mINFO: \u001b[39m\u001b[22m\u001b[36mInstalling Lazy v0.11.7\n",
      "\u001b[39m\u001b[1m\u001b[36mINFO: \u001b[39m\u001b[22m\u001b[36mInstalling Pandas v0.5.4\n",
      "\u001b[39m\u001b[1m\u001b[36mINFO: \u001b[39m\u001b[22m\u001b[36mInstalling PyPlot v2.3.2\n",
      "\u001b[39m\u001b[1m\u001b[36mINFO: \u001b[39m\u001b[22m\u001b[36mInstalling Reexport v0.0.3\n",
      "\u001b[39m\u001b[1m\u001b[36mINFO: \u001b[39m\u001b[22m\u001b[36mBuilding Conda\n",
      "\u001b[39m\u001b[1m\u001b[36mINFO: \u001b[39m\u001b[22m\u001b[36mBuilding PyCall\n",
      "\u001b[39m\u001b[1m\u001b[36mINFO: \u001b[39m\u001b[22m\u001b[36mPyCall is using /Users/mrkn/.julia/v0.6/Conda/deps/usr/bin/python (Python 2.7.13) at /Users/mrkn/.julia/v0.6/Conda/deps/usr/bin/python, libpython = /Users/mrkn/.julia/v0.6/Conda/deps/usr/lib/libpython2.7\n",
      "\u001b[39m\u001b[1m\u001b[36mINFO: \u001b[39m\u001b[22m\u001b[36m/Users/mrkn/.julia/v0.6/PyCall/deps/deps.jl has not changed\n",
      "\u001b[39m\u001b[1m\u001b[36mINFO: \u001b[39m\u001b[22m\u001b[36m/Users/mrkn/.julia/v0.6/PyCall/deps/PYTHON has not changed\n",
      "\u001b[39m\u001b[1m\u001b[36mINFO: \u001b[39m\u001b[22m\u001b[36mPackage database updated\n",
      "\u001b[39m"
     ]
    }
   ],
   "source": [
    "Pkg.add(\"Pandas\")"
   ]
  },
  {
   "cell_type": "code",
   "execution_count": 77,
   "metadata": {},
   "outputs": [
    {
     "name": "stderr",
     "output_type": "stream",
     "text": [
      "\u001b[1m\u001b[36mINFO: \u001b[39m\u001b[22m\u001b[36mPrecompiling module Pandas.\n",
      "\u001b[39mWARNING: Method definition macroexpand(Module, Any) in module Compat at /Users/mrkn/.julia/v0.6/Compat/src/Compat.jl:406 overwritten in module MacroTools at /Users/mrkn/.julia/v0.6/MacroTools/src/utils.jl:64.\n",
      "WARNING: Method definition macroexpand(Module, Any) in module Compat at /Users/mrkn/.julia/v0.6/Compat/src/Compat.jl:406 overwritten in module MacroTools at /Users/mrkn/.julia/v0.6/MacroTools/src/utils.jl:64.\n",
      "\u001b[1m\u001b[36mINFO: \u001b[39m\u001b[22m\u001b[36mInstalling matplotlib via the Conda matplotlib package...\n",
      "\u001b[39m"
     ]
    },
    {
     "name": "stdout",
     "output_type": "stream",
     "text": [
      "Fetching package metadata .........\n",
      "Solving package specifications: .\n",
      "\n",
      "Package plan for installation in environment /Users/mrkn/.julia/v0.6/Conda/deps/usr:\n",
      "\n",
      "The following NEW packages will be INSTALLED:\n",
      "\n",
      "    cycler:       0.10.0-py27_0    \n",
      "    freetype:     2.5.5-2          \n",
      "    libpng:       1.6.27-0         \n",
      "    matplotlib:   2.0.2-np113py27_0\n",
      "    pytz:         2017.2-py27_0    \n",
      "    subprocess32: 3.2.7-py27_0     \n",
      "\n",
      "libpng-1.6.27- 100% |###############################| Time: 0:00:00  12.37 MB/s\n",
      "freetype-2.5.5 100% |###############################| Time: 0:00:00  21.79 MB/s\n",
      "pytz-2017.2-py 100% |###############################| Time: 0:00:00  29.71 MB/s\n",
      "subprocess32-3 100% |###############################| Time: 0:00:00  32.82 MB/s\n",
      "cycler-0.10.0- 100% |###############################| Time: 0:00:00  18.21 MB/s\n",
      "matplotlib-2.0 100% |###############################| Time: 0:00:00  41.07 MB/s                        | Time: 0:00:00  35.37 MB/s.0  60% |##################             | Time: 0:00:00  39.21 MB/sB/s\n"
     ]
    },
    {
     "name": "stderr",
     "output_type": "stream",
     "text": [
      "WARNING: Method definition macroexpand(Module, Any) in module Compat at /Users/mrkn/.julia/v0.6/Compat/src/Compat.jl:406 overwritten in module MacroTools at /Users/mrkn/.julia/v0.6/MacroTools/src/utils.jl:64.\n",
      "\u001b[1m\u001b[33mWARNING: \u001b[39m\u001b[22m\u001b[33m@functorize is deprecated as functor objects are no longer supported in julia\u001b[39m\n",
      "Stacktrace:\n",
      " [1] \u001b[1mdepwarn\u001b[22m\u001b[22m\u001b[1m(\u001b[22m\u001b[22m::String, ::Symbol\u001b[1m)\u001b[22m\u001b[22m at \u001b[1m./deprecated.jl:70\u001b[22m\u001b[22m\n",
      " [2] \u001b[1minclude_from_node1\u001b[22m\u001b[22m\u001b[1m(\u001b[22m\u001b[22m::String\u001b[1m)\u001b[22m\u001b[22m at \u001b[1m./loading.jl:569\u001b[22m\u001b[22m\n",
      " [3] \u001b[1minclude\u001b[22m\u001b[22m\u001b[1m(\u001b[22m\u001b[22m::String\u001b[1m)\u001b[22m\u001b[22m at \u001b[1m./sysimg.jl:14\u001b[22m\u001b[22m\n",
      " [4] \u001b[1minclude_from_node1\u001b[22m\u001b[22m\u001b[1m(\u001b[22m\u001b[22m::String\u001b[1m)\u001b[22m\u001b[22m at \u001b[1m./loading.jl:569\u001b[22m\u001b[22m\n",
      " [5] \u001b[1minclude\u001b[22m\u001b[22m\u001b[1m(\u001b[22m\u001b[22m::String\u001b[1m)\u001b[22m\u001b[22m at \u001b[1m./sysimg.jl:14\u001b[22m\u001b[22m\n",
      " [6] \u001b[1manonymous\u001b[22m\u001b[22m at \u001b[1m./<missing>:2\u001b[22m\u001b[22m\n",
      " [7] \u001b[1meval\u001b[22m\u001b[22m\u001b[1m(\u001b[22m\u001b[22m::Module, ::Any\u001b[1m)\u001b[22m\u001b[22m at \u001b[1m./boot.jl:235\u001b[22m\u001b[22m\n",
      " [8] \u001b[1mprocess_options\u001b[22m\u001b[22m\u001b[1m(\u001b[22m\u001b[22m::Base.JLOptions\u001b[1m)\u001b[22m\u001b[22m at \u001b[1m./client.jl:286\u001b[22m\u001b[22m\n",
      " [9] \u001b[1m_start\u001b[22m\u001b[22m\u001b[1m(\u001b[22m\u001b[22m\u001b[1m)\u001b[22m\u001b[22m at \u001b[1m./client.jl:371\u001b[22m\u001b[22m\n",
      "while loading /Users/mrkn/.julia/v0.6/Lazy/src/liblazy.jl, in expression starting on line 4\n",
      "\u001b[1m\u001b[33mWARNING: \u001b[39m\u001b[22m\u001b[33m@functorize is deprecated as functor objects are no longer supported in julia\u001b[39m\n",
      "Stacktrace:\n",
      " [1] \u001b[1mdepwarn\u001b[22m\u001b[22m\u001b[1m(\u001b[22m\u001b[22m::String, ::Symbol\u001b[1m)\u001b[22m\u001b[22m at \u001b[1m./deprecated.jl:70\u001b[22m\u001b[22m\n",
      " [2] \u001b[1minclude_from_node1\u001b[22m\u001b[22m\u001b[1m(\u001b[22m\u001b[22m::String\u001b[1m)\u001b[22m\u001b[22m at \u001b[1m./loading.jl:569\u001b[22m\u001b[22m\n",
      " [3] \u001b[1minclude\u001b[22m\u001b[22m\u001b[1m(\u001b[22m\u001b[22m::String\u001b[1m)\u001b[22m\u001b[22m at \u001b[1m./sysimg.jl:14\u001b[22m\u001b[22m\n",
      " [4] \u001b[1minclude_from_node1\u001b[22m\u001b[22m\u001b[1m(\u001b[22m\u001b[22m::String\u001b[1m)\u001b[22m\u001b[22m at \u001b[1m./loading.jl:569\u001b[22m\u001b[22m\n",
      " [5] \u001b[1minclude\u001b[22m\u001b[22m\u001b[1m(\u001b[22m\u001b[22m::String\u001b[1m)\u001b[22m\u001b[22m at \u001b[1m./sysimg.jl:14\u001b[22m\u001b[22m\n",
      " [6] \u001b[1manonymous\u001b[22m\u001b[22m at \u001b[1m./<missing>:2\u001b[22m\u001b[22m\n",
      " [7] \u001b[1meval\u001b[22m\u001b[22m\u001b[1m(\u001b[22m\u001b[22m::Module, ::Any\u001b[1m)\u001b[22m\u001b[22m at \u001b[1m./boot.jl:235\u001b[22m\u001b[22m\n",
      " [8] \u001b[1mprocess_options\u001b[22m\u001b[22m\u001b[1m(\u001b[22m\u001b[22m::Base.JLOptions\u001b[1m)\u001b[22m\u001b[22m at \u001b[1m./client.jl:286\u001b[22m\u001b[22m\n",
      " [9] \u001b[1m_start\u001b[22m\u001b[22m\u001b[1m(\u001b[22m\u001b[22m\u001b[1m)\u001b[22m\u001b[22m at \u001b[1m./client.jl:371\u001b[22m\u001b[22m\n",
      "while loading /Users/mrkn/.julia/v0.6/Lazy/src/liblazy.jl, in expression starting on line 4\n",
      "\u001b[1m\u001b[36mINFO: \u001b[39m\u001b[22m\u001b[36mInstalling pandas via the Conda pandas package...\n",
      "\u001b[39m"
     ]
    },
    {
     "name": "stdout",
     "output_type": "stream",
     "text": [
      "Fetching package metadata .........\n",
      "Solving package specifications: .\n",
      "\n",
      "Package plan for installation in environment /Users/mrkn/.julia/v0.6/Conda/deps/usr:\n",
      "\n",
      "The following NEW packages will be INSTALLED:\n",
      "\n",
      "    pandas: 0.20.3-py27_0\n",
      "\n",
      "pandas-0.20.3- 100% |###############################| Time: 0:00:00  37.04 MB/s\n"
     ]
    }
   ],
   "source": [
    "using Pandas"
   ]
  },
  {
   "cell_type": "markdown",
   "metadata": {},
   "source": [
    "ここでは、[pandas cookbook のこのページ](http://nbviewer.jupyter.org/github/jvns/pandas-cookbook/blob/v0.1/cookbook/Chapter%204%20-%20Find%20out%20on%20which%20weekday%20people%20bike%20the%20most%20with%20groupby%20and%20aggregate.ipynb)の内容の一部を参照し、[pandas cookbook の bikes.csv](https://github.com/jvns/pandas-cookbook/blob/master/data/bikes.csv) を使って pandas のデータフレーム操作の実例を紹介します。以降は、必ず Julia コードを実行するためのコードセルの直前に、対応する Python コードを示します。\n",
    "\n",
    "まず、データを読み込みます。\n",
    "\n",
    "```python\n",
    "bikes = pd.read_csv('bikes.csv', sep=';', encoding='latin1', parse_dates=['Date'], dayfirst=True, index_col='Date')\n",
    "```"
   ]
  },
  {
   "cell_type": "code",
   "execution_count": 89,
   "metadata": {},
   "outputs": [
    {
     "data": {
      "text/plain": [
       "            Berri 1  Brébeuf (données non disponibles)  Côte-Sainte-Catherine  \\\n",
       "Date                                                                            \n",
       "2012-01-01       35                                NaN                      0   \n",
       "2012-01-02       83                                NaN                      1   \n",
       "2012-01-03      135                                NaN                      2   \n",
       "2012-01-04      144                                NaN                      1   \n",
       "2012-01-05      197                                NaN                      2   \n",
       "2012-01-06      146                                NaN                      0   \n",
       "2012-01-07       98                                NaN                      2   \n",
       "2012-01-08       95                                NaN                      1   \n",
       "2012-01-09      244                                NaN                      2   \n",
       "2012-01-10      397                                NaN                      3   \n",
       "2012-01-11      273                                NaN                      0   \n",
       "2012-01-12      157                                NaN                      1   \n",
       "2012-01-13       75                                NaN                      0   \n",
       "2012-01-14       32                                NaN                      0   \n",
       "2012-01-15       54                                NaN                      0   \n",
       "2012-01-16      168                                NaN                      2   \n",
       "2012-01-17      155                                NaN                      0   \n",
       "2012-01-18      139                                NaN                      0   \n",
       "2012-01-19      191                                NaN                      1   \n",
       "2012-01-20      161                                NaN                      4   \n",
       "2012-01-21       53                                NaN                      0   \n",
       "2012-01-22       71                                NaN                      0   \n",
       "2012-01-23      210                                NaN                      6   \n",
       "2012-01-24      299                                NaN                      1   \n",
       "2012-01-25      334                                NaN                      1   \n",
       "2012-01-26      306                                NaN                      0   \n",
       "2012-01-27       91                                NaN                      5   \n",
       "2012-01-28       80                                NaN                      1   \n",
       "2012-01-29       87                                NaN                      1   \n",
       "2012-01-30      219                                NaN                      0   \n",
       "...             ...                                ...                    ...   \n",
       "2012-10-07     1580                                NaN                    660   \n",
       "2012-10-08     1854                                NaN                    880   \n",
       "2012-10-09     4787                                NaN                   2210   \n",
       "2012-10-10     3115                                NaN                   1537   \n",
       "2012-10-11     3746                                NaN                   1857   \n",
       "2012-10-12     3169                                NaN                   1460   \n",
       "2012-10-13     1783                                NaN                    802   \n",
       "2012-10-14      587                                NaN                    287   \n",
       "2012-10-15     3292                                NaN                   1678   \n",
       "2012-10-16     3739                                NaN                   1858   \n",
       "2012-10-17     4098                                NaN                   1964   \n",
       "2012-10-18     4671                                NaN                   2292   \n",
       "2012-10-19     1313                                NaN                    597   \n",
       "2012-10-20     2011                                NaN                    748   \n",
       "2012-10-21     1277                                NaN                    609   \n",
       "2012-10-22     3650                                NaN                   1819   \n",
       "2012-10-23     4177                                NaN                   1997   \n",
       "2012-10-24     3744                                NaN                   1868   \n",
       "2012-10-25     3735                                NaN                   1815   \n",
       "2012-10-26     4290                                NaN                   1987   \n",
       "2012-10-27     1857                                NaN                    792   \n",
       "2012-10-28     1310                                NaN                    697   \n",
       "2012-10-29     2919                                NaN                   1458   \n",
       "2012-10-30     2887                                NaN                   1251   \n",
       "2012-10-31     2634                                NaN                   1294   \n",
       "2012-11-01     2405                                NaN                   1208   \n",
       "2012-11-02     1582                                NaN                    737   \n",
       "2012-11-03      844                                NaN                    380   \n",
       "2012-11-04      966                                NaN                    446   \n",
       "2012-11-05     2247                                NaN                   1170   \n",
       "\n",
       "            Maisonneuve 1  Maisonneuve 2  du Parc  Pierre-Dupuy  Rachel1  \\\n",
       "Date                                                                       \n",
       "2012-01-01             38             51       26            10       16   \n",
       "2012-01-02             68            153       53             6       43   \n",
       "2012-01-03            104            248       89             3       58   \n",
       "2012-01-04            116            318      111             8       61   \n",
       "2012-01-05            124            330       97            13       95   \n",
       "2012-01-06             98            244       86             4       75   \n",
       "2012-01-07             80            108       53             6       54   \n",
       "2012-01-08             62             98       64            11       63   \n",
       "2012-01-09            165            432      198            12      173   \n",
       "2012-01-10            238            563      275            18      241   \n",
       "2012-01-11            182            443      258            12      194   \n",
       "2012-01-12            134            261      137             9       63   \n",
       "2012-01-13             41            105       64             2        0   \n",
       "2012-01-14             54             56       19             0        1   \n",
       "2012-01-15             33             60       18             0        0   \n",
       "2012-01-16            136            312      137             1        0   \n",
       "2012-01-17             86            256       74             0        0   \n",
       "2012-01-18             66            188       68             3        0   \n",
       "2012-01-19            104            248       79             3        0   \n",
       "2012-01-20             96            217       67             1        1   \n",
       "2012-01-21             47             70       32             1        0   \n",
       "2012-01-22             41             73       35             5        0   \n",
       "2012-01-23            114            357       91             6        0   \n",
       "2012-01-24            189            444      174             4        0   \n",
       "2012-01-25            217            453      180             4        0   \n",
       "2012-01-26            215            495      191             0        1   \n",
       "2012-01-27             79            204       65             0        0   \n",
       "2012-01-28             61            123       33             9        1   \n",
       "2012-01-29             65            132       40             7        0   \n",
       "2012-01-30            146            371      152             2        0   \n",
       "...                   ...            ...      ...           ...      ...   \n",
       "2012-10-07            922           1629      860           695     2052   \n",
       "2012-10-08            987           1818     1040          1115     2502   \n",
       "2012-10-09           3026           5138     3418           927     4078   \n",
       "2012-10-10           2081           3681     2608           560     2703   \n",
       "2012-10-11           2569           4694     3034           558     3457   \n",
       "2012-10-12           2261           4045     2564           448     3224   \n",
       "2012-10-13           1205           2113     1183           681     2309   \n",
       "2012-10-14            443            852      503            65      952   \n",
       "2012-10-15           2165           4197     2754           560     3183   \n",
       "2012-10-16           2684           4681     2997           554     3593   \n",
       "2012-10-17           2645           4836     3063           728     3834   \n",
       "2012-10-18           3129           5542     3477          1108     4245   \n",
       "2012-10-19            885           1668     1209           111     1486   \n",
       "2012-10-20           1323           2266     1213           797     2243   \n",
       "2012-10-21            869           1777      898           242     1648   \n",
       "2012-10-22           2495           4800     3023           757     3721   \n",
       "2012-10-23           2795           5216     3233           795     3554   \n",
       "2012-10-24           2625           4900     3035           649     3622   \n",
       "2012-10-25           2528           5010     3017           631     3767   \n",
       "2012-10-26           2754           5246     3000          1456     4578   \n",
       "2012-10-27           1244           2461     1193           618     2471   \n",
       "2012-10-28            910           1776      955           387     1876   \n",
       "2012-10-29           2071           3768     2440           411     2795   \n",
       "2012-10-30           2007           3516     2255           338     2790   \n",
       "2012-10-31           1835           3453     2220           245     2570   \n",
       "2012-11-01           1701           3082     2076           165     2461   \n",
       "2012-11-02           1109           2277     1392            97     1888   \n",
       "2012-11-03            612           1137      713           105     1302   \n",
       "2012-11-04            710           1277      692           197     1374   \n",
       "2012-11-05           1705           3221     2143           179     2430   \n",
       "\n",
       "            St-Urbain (données non disponibles)  \n",
       "Date                                             \n",
       "2012-01-01                                  NaN  \n",
       "2012-01-02                                  NaN  \n",
       "2012-01-03                                  NaN  \n",
       "2012-01-04                                  NaN  \n",
       "2012-01-05                                  NaN  \n",
       "2012-01-06                                  NaN  \n",
       "2012-01-07                                  NaN  \n",
       "2012-01-08                                  NaN  \n",
       "2012-01-09                                  NaN  \n",
       "2012-01-10                                  NaN  \n",
       "2012-01-11                                  NaN  \n",
       "2012-01-12                                  NaN  \n",
       "2012-01-13                                  NaN  \n",
       "2012-01-14                                  NaN  \n",
       "2012-01-15                                  NaN  \n",
       "2012-01-16                                  NaN  \n",
       "2012-01-17                                  NaN  \n",
       "2012-01-18                                  NaN  \n",
       "2012-01-19                                  NaN  \n",
       "2012-01-20                                  NaN  \n",
       "2012-01-21                                  NaN  \n",
       "2012-01-22                                  NaN  \n",
       "2012-01-23                                  NaN  \n",
       "2012-01-24                                  NaN  \n",
       "2012-01-25                                  NaN  \n",
       "2012-01-26                                  NaN  \n",
       "2012-01-27                                  NaN  \n",
       "2012-01-28                                  NaN  \n",
       "2012-01-29                                  NaN  \n",
       "2012-01-30                                  NaN  \n",
       "...                                         ...  \n",
       "2012-10-07                                  NaN  \n",
       "2012-10-08                                  NaN  \n",
       "2012-10-09                                  NaN  \n",
       "2012-10-10                                  NaN  \n",
       "2012-10-11                                  NaN  \n",
       "2012-10-12                                  NaN  \n",
       "2012-10-13                                  NaN  \n",
       "2012-10-14                                  NaN  \n",
       "2012-10-15                                  NaN  \n",
       "2012-10-16                                  NaN  \n",
       "2012-10-17                                  NaN  \n",
       "2012-10-18                                  NaN  \n",
       "2012-10-19                                  NaN  \n",
       "2012-10-20                                  NaN  \n",
       "2012-10-21                                  NaN  \n",
       "2012-10-22                                  NaN  \n",
       "2012-10-23                                  NaN  \n",
       "2012-10-24                                  NaN  \n",
       "2012-10-25                                  NaN  \n",
       "2012-10-26                                  NaN  \n",
       "2012-10-27                                  NaN  \n",
       "2012-10-28                                  NaN  \n",
       "2012-10-29                                  NaN  \n",
       "2012-10-30                                  NaN  \n",
       "2012-10-31                                  NaN  \n",
       "2012-11-01                                  NaN  \n",
       "2012-11-02                                  NaN  \n",
       "2012-11-03                                  NaN  \n",
       "2012-11-04                                  NaN  \n",
       "2012-11-05                                  NaN  \n",
       "\n",
       "[310 rows x 9 columns]\n"
      ]
     },
     "execution_count": 89,
     "metadata": {},
     "output_type": "execute_result"
    }
   ],
   "source": [
    "bikes = read_csv(\"bikes.csv\"; sep=\";\", encoding=\"latin1\", parse_dates=[\"Date\"], dayfirst=true, index_col=\"Date\")"
   ]
  },
  {
   "cell_type": "markdown",
   "metadata": {},
   "source": [
    "プロットしてみましょう。pandas は内部で matplotlib を呼び出して作図をしますが、その結果を Julia 側に持ってくる際に PyPlot.jl が使用されています。\n",
    "\n",
    "```python\n",
    "bikes['Berri 1'].plot(figsize=(15, 5))\n",
    "```"
   ]
  },
  {
   "cell_type": "code",
   "execution_count": 90,
   "metadata": {},
   "outputs": [
    {
     "data": {
      "image/png": "[encoded data removed]",
      "text/plain": [
       "PyPlot.Figure(PyObject <matplotlib.figure.Figure object at 0x13ac41950>)"
      ]
     },
     "metadata": {},
     "output_type": "display_data"
    },
    {
     "data": {
      "text/plain": [
       "PyObject <matplotlib.axes._subplots.AxesSubplot object at 0x13ac2add0>"
      ]
     },
     "execution_count": 90,
     "metadata": {},
     "output_type": "execute_result"
    }
   ],
   "source": [
    "plot(bikes[[\"Berri 1\"]]; figsize=(15, 5))"
   ]
  },
  {
   "cell_type": "markdown",
   "metadata": {},
   "source": [
    "データフレームからカラム `Berri 1` を取り出し、最初の5行を取り出して確認します。\n",
    "\n",
    "```python\n",
    "berri_bikes = bikes[['Berri 1']]\n",
    "berri_bikes[:5]\n",
    "```"
   ]
  },
  {
   "cell_type": "code",
   "execution_count": 92,
   "metadata": {},
   "outputs": [
    {
     "data": {
      "text/plain": [
       "            Berri 1\n",
       "Date               \n",
       "2012-01-01       35\n",
       "2012-01-02       83\n",
       "2012-01-03      135\n",
       "2012-01-04      144\n",
       "2012-01-05      197\n",
       "2012-01-06      146\n"
      ]
     },
     "execution_count": 92,
     "metadata": {},
     "output_type": "execute_result"
    }
   ],
   "source": [
    "berri_bikes = bikes[[\"Berri 1\"]]\n",
    "berri_bikes[0:5]"
   ]
  },
  {
   "cell_type": "markdown",
   "metadata": {},
   "source": [
    "データをロードする際に `parse_dates=[\"Date\"]` というパラメータを指定してカラム `Date` を日付として解釈し、そして `index_col=\"Date\"` パラメータを指定してカラム `Date` をインデックスにしました。そのため、データフレームのインデックスは DatetimeIndex になっています。したがって、次のようにインデックスの `weekday` 属性を取り出して各行の曜日番号を得ることができます。\n",
    "\n",
    "```python\n",
    "berri_bikes.index.weekday\n",
    "```"
   ]
  },
  {
   "cell_type": "code",
   "execution_count": 110,
   "metadata": {},
   "outputs": [
    {
     "data": {
      "text/plain": [
       "PyObject Int64Index([6, 0, 1, 2, 3, 4, 5, 6, 0, 1,\n",
       "            ...\n",
       "            5, 6, 0, 1, 2, 3, 4, 5, 6, 0],\n",
       "           dtype='int64', name=u'Date', length=310)"
      ]
     },
     "execution_count": 110,
     "metadata": {},
     "output_type": "execute_result"
    }
   ],
   "source": [
    "index(berri_bikes).pyo[:weekday]"
   ]
  },
  {
   "cell_type": "markdown",
   "metadata": {},
   "source": [
    "曜日番号用のカラムを作ります。\n",
    "\n",
    "```python\n",
    "berri_bikes['weekday'] = berri_bikes.index.weekday\n",
    "berri_bikes[:5]\n",
    "```"
   ]
  },
  {
   "cell_type": "code",
   "execution_count": 117,
   "metadata": {},
   "outputs": [
    {
     "data": {
      "text/plain": [
       "            Berri 1  weekday\n",
       "Date                        \n",
       "2012-01-01       35        6\n",
       "2012-01-02       83        0\n",
       "2012-01-03      135        1\n",
       "2012-01-04      144        2\n",
       "2012-01-05      197        3\n",
       "2012-01-06      146        4\n"
      ]
     },
     "execution_count": 117,
     "metadata": {},
     "output_type": "execute_result"
    }
   ],
   "source": [
    "berri_bikes[\"weekday\"] = index(berri_bikes).pyo[:weekday]\n",
    "berri_bikes[0:5]"
   ]
  },
  {
   "cell_type": "markdown",
   "metadata": {},
   "source": [
    "追加した曜日番号カラムの値を利用して、曜日毎に集計します。\n",
    "\n",
    "```python\n",
    "weekday_counts = berri_bikes.groupby('weekday').aggregate(sum)\n",
    "weekday_counts\n",
    "```"
   ]
  },
  {
   "cell_type": "code",
   "execution_count": 122,
   "metadata": {},
   "outputs": [
    {
     "data": {
      "text/plain": [
       "         Berri 1\n",
       "weekday         \n",
       "0         134298\n",
       "1         135305\n",
       "2         152972\n",
       "3         160131\n",
       "4         141771\n",
       "5         101578\n",
       "6          99310\n"
      ]
     },
     "execution_count": 122,
     "metadata": {},
     "output_type": "execute_result"
    }
   ],
   "source": [
    "weekday_counts = aggregate(groupby(berri_bikes, \"weekday\"), :sum)\n",
    "weekday_counts"
   ]
  },
  {
   "cell_type": "markdown",
   "metadata": {},
   "source": [
    "集計結果のインデックスを曜日番号から曜日名に変更します。\n",
    "\n",
    "```python\n",
    "weekday_counts.index = ['Monday', 'Tuesday', 'Wednesday', 'Thursday', 'Friday', 'Saturday', 'Sunday']\n",
    "weekday_counts\n",
    "```"
   ]
  },
  {
   "cell_type": "code",
   "execution_count": 123,
   "metadata": {},
   "outputs": [
    {
     "data": {
      "text/plain": [
       "           Berri 1\n",
       "Monday      134298\n",
       "Tuesday     135305\n",
       "Wednesday   152972\n",
       "Thursday    160131\n",
       "Friday      141771\n",
       "Saturday    101578\n",
       "Sunday       99310\n"
      ]
     },
     "execution_count": 123,
     "metadata": {},
     "output_type": "execute_result"
    }
   ],
   "source": [
    "index!(weekday_counts, [\"Monday\", \"Tuesday\", \"Wednesday\", \"Thursday\", \"Friday\", \"Saturday\", \"Sunday\"])\n",
    "weekday_counts"
   ]
  },
  {
   "cell_type": "markdown",
   "metadata": {},
   "source": [
    "集計結果を棒グラフで可視化します。\n",
    "\n",
    "```python\n",
    "weekday_counts.plot(kind='bar')\n",
    "```"
   ]
  },
  {
   "cell_type": "code",
   "execution_count": 125,
   "metadata": {},
   "outputs": [
    {
     "data": {
      "image/png": "[encoded data removed]",
      "text/plain": [
       "PyPlot.Figure(PyObject <matplotlib.figure.Figure object at 0x13b8186d0>)"
      ]
     },
     "metadata": {},
     "output_type": "display_data"
    },
    {
     "data": {
      "text/plain": [
       "PyObject <matplotlib.axes._subplots.AxesSubplot object at 0x13b8848d0>"
      ]
     },
     "execution_count": 125,
     "metadata": {},
     "output_type": "execute_result"
    }
   ],
   "source": [
    "plot(weekday_counts; kind=\"bar\", figsize=(15, 5))"
   ]
  },
  {
   "cell_type": "code",
   "execution_count": null,
   "metadata": {
    "collapsed": true
   },
   "outputs": [],
   "source": []
  }
 ],
 "metadata": {
  "kernelspec": {
   "display_name": "Julia 0.6.0",
   "language": "julia",
   "name": "julia-0.6"
  },
  "language_info": {
   "file_extension": ".jl",
   "mimetype": "application/julia",
   "name": "julia",
   "version": "0.6.0"
  }
 },
 "nbformat": 4,
 "nbformat_minor": 2
}
