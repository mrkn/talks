{
 "cells": [
  {
   "cell_type": "markdown",
   "metadata": {},
   "source": [
    "To show how nmatrix is slow, the following codes compares three different kind of summation methods with 1,000 element arrays.\n",
    "\n",
    "1. `NMatrix#sum`\n",
    "2. `Array#sum`\n",
    "3. `Array#inject` with `:+` argument."
   ]
  },
  {
   "cell_type": "code",
   "execution_count": 1,
   "metadata": {},
   "outputs": [
    {
     "data": {
      "text/plain": [
       "true"
      ]
     },
     "execution_count": 1,
     "metadata": {},
     "output_type": "execute_result"
    }
   ],
   "source": [
    "require 'benchmark'\n",
    "require 'nmatrix'\n",
    "require 'rbplotly'"
   ]
  },
  {
   "cell_type": "code",
   "execution_count": 2,
   "metadata": {
    "scrolled": false
   },
   "outputs": [
    {
     "name": "stdout",
     "output_type": "stream",
     "text": [
      "                      user     system      total        real\n",
      "nm.sum            0.010000   0.000000   0.010000 (  0.017615)\n",
      "ar.sum            0.000000   0.000000   0.000000 (  0.000015)\n",
      "ar.inject(:+)     0.000000   0.000000   0.000000 (  0.000067)\n"
     ]
    }
   ],
   "source": [
    "results = []\n",
    "Benchmark.bm(15) do |x|\n",
    "  nm = NMatrix.new([1000], [1.0]*1000)\n",
    "  ar = [1.0]*1000\n",
    "\n",
    "  results << x.report(\"nm.sum\") { nm.sum }\n",
    "  results << x.report(\"ar.sum\") { ar.sum }\n",
    "  results << x.report(\"ar.inject(:+)\") { ar.inject(:+) }\n",
    "  nil\n",
    "end\n",
    "nil"
   ]
  },
  {
   "cell_type": "markdown",
   "metadata": {},
   "source": [
    "---\n",
    "\n",
    "Draw bar plot to visualize this results by using rbplotly library."
   ]
  },
  {
   "cell_type": "code",
   "execution_count": 3,
   "metadata": {
    "scrolled": false
   },
   "outputs": [
    {
     "data": {
      "text/html": [
       "\n",
       "  <script>\n",
       "  requirejs.config({paths: { 'plotly': ['https://cdn.plot.ly/plotly-latest.min'] }})\n",
       "  </script>\n",
       "\n",
       "\n",
       "<div id=\"c44dfd4f-1dc6-4554-8303-2645af64e315\" style=\"height: 100%; width: 100%;\"></div>\n",
       "\n",
       "<script>\n",
       " require(['plotly'], function(Plotly) { \n",
       "Plotly.newPlot(\n",
       "  'c44dfd4f-1dc6-4554-8303-2645af64e315',\n",
       "  [{\"x\":[\"nm.sum\",\"ar.sum\",\"ar.inject(:+)\"],\"y\":[0.017615263001061976,1.538300421088934e-05,6.742199184373021e-05],\"type\":\"bar\"}],\n",
       "  {},\n",
       "  {\"linkText\":\"Export to plot.ly\",\"showLink\":true}\n",
       ")\n",
       "\n",
       "window.addEventListener('resize', function() {\n",
       "  Plotly.Plots.resize(document.getElementById('c44dfd4f-1dc6-4554-8303-2645af64e315'))\n",
       "})\n",
       " }) \n",
       "</script>"
      ],
      "text/plain": [
       "#<Plotly::Offline::HTML:0x00000000028b6508 @id=\"c44dfd4f-1dc6-4554-8303-2645af64e315\", @data=[{:x=>[\"nm.sum\", \"ar.sum\", \"ar.inject(:+)\"], :y=>[0.017615263001061976, 1.538300421088934e-05, 6.742199184373021e-05], :type=>:bar}], @layout={}, @config={:linkText=>\"Export to plot.ly\", :showLink=>true}, @embedded=true>"
      ]
     },
     "metadata": {},
     "output_type": "display_data"
    }
   ],
   "source": [
    "plot = Plotly::Plot.new(data: [{\n",
    "  x: results.map(&:label),\n",
    "  y: results.map(&:real),\n",
    "  type: :bar\n",
    "}])\n",
    "plot.show\n",
    "nil"
   ]
  },
  {
   "cell_type": "markdown",
   "metadata": {},
   "source": [
    "As you can see in this chart, NMatrix#sum is tremendously too much slow.\n",
    "\n",
    "This bug is filed as the issue [#362](https://github.com/SciRuby/nmatrix/issues/362), so if you want to investigate and fix it, please check this issue."
   ]
  },
  {
   "cell_type": "code",
   "execution_count": null,
   "metadata": {},
   "outputs": [],
   "source": []
  }
 ],
 "metadata": {
  "kernelspec": {
   "display_name": "Ruby 2.4.2",
   "language": "ruby",
   "name": "ruby"
  },
  "language_info": {
   "file_extension": ".rb",
   "mimetype": "application/x-ruby",
   "name": "ruby",
   "version": "2.4.2"
  }
 },
 "nbformat": 4,
 "nbformat_minor": 2
}
